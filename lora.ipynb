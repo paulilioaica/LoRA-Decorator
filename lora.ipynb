{
 "cells": [
  {
   "cell_type": "code",
   "execution_count": 1,
   "metadata": {},
   "outputs": [],
   "source": [
    "from lora import LoRA\n",
    "import torch"
   ]
  },
  {
   "cell_type": "code",
   "execution_count": 2,
   "metadata": {},
   "outputs": [],
   "source": [
    "lora = LoRA(rank=3, hidden_size_in=128, hidden_size_out=128, alpha = 0.01)"
   ]
  },
  {
   "cell_type": "code",
   "execution_count": 9,
   "metadata": {},
   "outputs": [
    {
     "data": {
      "text/plain": [
       "tensor([[-0., 0., -0.,  ..., 0., 0., -0.],\n",
       "        [-0., 0., -0.,  ..., 0., 0., -0.],\n",
       "        [-0., 0., -0.,  ..., 0., 0., -0.],\n",
       "        ...,\n",
       "        [-0., 0., -0.,  ..., 0., 0., -0.],\n",
       "        [-0., 0., -0.,  ..., 0., 0., -0.],\n",
       "        [-0., 0., -0.,  ..., 0., 0., -0.]], grad_fn=<DivBackward0>)"
      ]
     },
     "execution_count": 9,
     "metadata": {},
     "output_type": "execute_result"
    }
   ],
   "source": [
    "import torch.nn as nn\n",
    "import torch\n",
    "lora(torch.randn(128))"
   ]
  },
  {
   "cell_type": "code",
   "execution_count": 22,
   "metadata": {},
   "outputs": [
    {
     "name": "stdout",
     "output_type": "stream",
     "text": [
      "9.033881498768381e-14\n"
     ]
    }
   ],
   "source": [
    "# lets setup a quick training so we see matrixes changing\n",
    "import torch.optim as optim\n",
    "import torch.nn.functional as F\n",
    "\n",
    "\n",
    "lora = LoRA(rank=3, hidden_size_in=128, hidden_size_out=128, alpha = 10)\n",
    "optimizer = optim.Adam(lora.parameters(), lr=0.01)\n",
    "criterion = nn.MSELoss()\n",
    "\n",
    "for i in range(1000):\n",
    "    optimizer.zero_grad()\n",
    "    x = torch.randn(128)\n",
    "    y = lora(x)\n",
    "    loss = criterion(x, y)\n",
    "    loss.backward()\n",
    "    optimizer.step()\n",
    "\n",
    "print(loss.item())\n",
    "\n"
   ]
  },
  {
   "cell_type": "code",
   "execution_count": null,
   "metadata": {},
   "outputs": [],
   "source": []
  }
 ],
 "metadata": {
  "kernelspec": {
   "display_name": "Python 3",
   "language": "python",
   "name": "python3"
  },
  "language_info": {
   "codemirror_mode": {
    "name": "ipython",
    "version": 3
   },
   "file_extension": ".py",
   "mimetype": "text/x-python",
   "name": "python",
   "nbconvert_exporter": "python",
   "pygments_lexer": "ipython3",
   "version": "3.10.11"
  }
 },
 "nbformat": 4,
 "nbformat_minor": 2
}
